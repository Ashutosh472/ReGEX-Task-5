{
 "cells": [
  {
   "cell_type": "markdown",
   "id": "34428c0e",
   "metadata": {},
   "source": [
    "## Q1. Given a list of integers, write a function to return the sum of all prime numbers in that list."
   ]
  },
  {
   "cell_type": "code",
   "execution_count": 7,
   "id": "109b697d",
   "metadata": {},
   "outputs": [
    {
     "name": "stdout",
     "output_type": "stream",
     "text": [
      "Sum of all prime numbers: 6\n"
     ]
    }
   ],
   "source": [
    "def Prime(list):\n",
    "    s = 0\n",
    "    for num in list:\n",
    "        i = 2\n",
    "        p = 1\n",
    "        while i <= num / 2:\n",
    "            if num % i == 0:\n",
    "                p = 0\n",
    "                break\n",
    "            i = i + 1\n",
    "        if p == 1:\n",
    "            s = s + num\n",
    "    return s\n",
    " \n",
    "\n",
    "list = [1,5,20,15,21]\n",
    "s = Prime(list)\n",
    "print(\"Sum of all prime numbers:\", s)"
   ]
  },
  {
   "cell_type": "markdown",
   "id": "6b78cc63",
   "metadata": {},
   "source": [
    "## Q2.Given a list of integers, write a function to check whether the list is strictly increasing or not."
   ]
  },
  {
   "cell_type": "code",
   "execution_count": 11,
   "id": "1b235363",
   "metadata": {},
   "outputs": [
    {
     "name": "stdout",
     "output_type": "stream",
     "text": [
      "True\n",
      "False\n"
     ]
    }
   ],
   "source": [
    "def In_s(s):\n",
    "    if len(s) < 3:\n",
    "        return True\n",
    "    a, b, *s = s\n",
    "    skipped = 0\n",
    "    for c in s:\n",
    "        if a < b < c: # XXX\n",
    "            a, b = b, c\n",
    "            continue\n",
    "        elif b < c: # !XX\n",
    "            a, b = b, c\n",
    "        elif a < c: # X!X\n",
    "            a, b = a, c\n",
    "        skipped += 1\n",
    "        if skipped == 2:\n",
    "            return False\n",
    "    return a < b\n",
    "print(In_s([]))\n",
    "print(In_s([10, 11, 12, 2, 3, 4, 5]))"
   ]
  },
  {
   "cell_type": "markdown",
   "id": "c543cffa",
   "metadata": {},
   "source": [
    "## Q3. Write a function to check whether a given list is expanding or not (the difference between adjacent elements should keep on increasing)."
   ]
  },
  {
   "cell_type": "code",
   "execution_count": null,
   "id": "490baf2e",
   "metadata": {},
   "outputs": [],
   "source": [
    "list_array = list()\n",
    "def is_expanding(A):\n",
    "    if all(A[i] <= A[i+1] for i in range (len(A)-1)):\n",
    "        return \"expanding\"\n",
    "    elif all(A[i] >= A[i+1] for i in range (len(A)-1)):\n",
    "        return \"not expanding\"\n",
    "    return \"not expanding array\"\n",
    "n = int(input(\"input size of the array :\"))\n",
    "for i in range(n):\n",
    "    s=int(input(\"input value for position {} : \".format(i)))\n",
    "    list_array.append(s)\n",
    "print(\"Input array is \"+is_expanding(list_array))"
   ]
  },
  {
   "cell_type": "markdown",
   "id": "5249d388",
   "metadata": {},
   "source": [
    "#### input size of the array :4\n",
    "#### input value for position 0 : 12\n",
    "#### input value for position 1 : 1\n",
    "#### input value for position 2 : 3\n",
    "#### input value for position 3 : 4\n",
    "#### Input array is not expanding array"
   ]
  },
  {
   "cell_type": "markdown",
   "id": "7b7a79c7",
   "metadata": {},
   "source": [
    "## Q4. Write a function to calculate all permutations of a given string. (Without using itertools)"
   ]
  },
  {
   "cell_type": "code",
   "execution_count": 25,
   "id": "ce3cb996",
   "metadata": {},
   "outputs": [
    {
     "name": "stdout",
     "output_type": "stream",
     "text": [
      "Enter the string : ABCD\n",
      "All possible strings are : \n",
      "ABCD ABDC ACBD ACDB ADBC ADCB BACD BADC BCAD BCDA BDAC BDCA CABD CADB CBAD CBDA CDAB CDBA DABC DACB DBAC DBCA DCAB DCBA "
     ]
    }
   ],
   "source": [
    "def permute(s, answer):\n",
    "    if (len(s) == 0):\n",
    "        print(answer, end = \" \")\n",
    "        return\n",
    "    for i in range(len(s)):\n",
    "        ch = s[i]\n",
    "        left_substr = s[0:i]\n",
    "        right_substr = s[i + 1:]\n",
    "        rest = left_substr + right_substr\n",
    "        permute(rest, answer + ch)\n",
    "answer = \"\"\n",
    "s = input(\"Enter the string : \")\n",
    "print(\"All possible strings are : \")\n",
    "permute(s, answer)"
   ]
  }
 ],
 "metadata": {
  "kernelspec": {
   "display_name": "Python 3",
   "language": "python",
   "name": "python3"
  },
  "language_info": {
   "codemirror_mode": {
    "name": "ipython",
    "version": 3
   },
   "file_extension": ".py",
   "mimetype": "text/x-python",
   "name": "python",
   "nbconvert_exporter": "python",
   "pygments_lexer": "ipython3",
   "version": "3.8.8"
  }
 },
 "nbformat": 4,
 "nbformat_minor": 5
}
